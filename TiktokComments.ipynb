{
 "cells": [
  {
   "cell_type": "code",
   "execution_count": 20,
   "metadata": {},
   "outputs": [],
   "source": [
    "import requests\n",
    "import pandas as pd\n",
    "import time\n",
    "from IPython.display import clear_output"
   ]
  },
  {
   "cell_type": "code",
   "execution_count": 21,
   "metadata": {},
   "outputs": [],
   "source": [
    "#Epoch & Unix Timestamp Conversion to GMT+0 time\n",
    "#Cuz Tiktok API return Epoch & Unix Timestamp, we need to convert it to GMT+0 time\n",
    "def epoch_to_date(epoch):\n",
    "    return time.strftime('%Y-%m-%d %H:%M:%S', time.gmtime(epoch))\n",
    "\n",
    "#If you want to convert it to local time, use this function\n",
    "# def epoch_to_date(epoch):\n",
    "#     return time.strftime('%Y-%m-%d %H:%M:%S', time.localtime(epoch))\n",
    "\n",
    "#--------------------------------------------\n",
    "#Check URL\n",
    "def check_url(url):\n",
    "    if 'tiktok.com' in url and 'video' in url:\n",
    "        return True\n",
    "    else:\n",
    "        return False\n",
    "\n",
    "#--------------------------------------------\n",
    "#get ID from Tiktok URL\n",
    "def get_id(url):\n",
    "    url = '/'.join(url.replace('?','/').split('/')[:6])\n",
    "    id = url.split('/')[-1]\n",
    "    print('ID: ', id)\n",
    "    print('URL: ', url)\n",
    "    return (url, id)\n",
    "\n",
    "#--------------------------------------------\n",
    "#Load DataFrame\n",
    "def load_df(fileName='Tiktok_comments.csv'):\n",
    "    #check if file exist\n",
    "    try:\n",
    "        df = pd.read_csv('Tiktok_comments.csv')\n",
    "        print('File exist')\n",
    "    except:\n",
    "        #Create DataFrame to store comments\n",
    "        df = pd.DataFrame(columns=['cid', 'text', 'time', 'digg_count', 'reply_comment_total', 'user_id', 'user_nickname', 'user_unique_id', 'referer'])\n",
    "        print('File not exist. Will create new file to save DataFrame')\n",
    "    df.info()\n",
    "    #---------------------------------\n",
    "    #cid: comment id\n",
    "    #text: comment\n",
    "    #time: comment time\n",
    "    #digg_count: number of likes\n",
    "    #reply_comment_total: number of replies\n",
    "    #user_id: user id\n",
    "    #user_nickname: user nickname\n",
    "    #user_unique_id: user unique id\n",
    "    #referer: video url\n",
    "    return df"
   ]
  },
  {
   "cell_type": "code",
   "execution_count": 26,
   "metadata": {},
   "outputs": [],
   "source": [
    "#Cuz TikTok API only return {count} comments per request, so we need to loop to get all comments\n",
    "#set cursor - address of the first row\n",
    "#set count - number of rows to read - maximum 50 rows per request\n",
    "\n",
    "#Get comments from Tiktok API function\n",
    "def get_comments(referer, cursor=0, count=50):\n",
    "    clear_output(wait=True)\n",
    "    #get video id\n",
    "    referer, id = get_id(referer)\n",
    "    print('Please check if the URL is correct. If not, please re-run the cell')\n",
    "\n",
    "    #load DataFrame\n",
    "    df = load_df()\n",
    "\n",
    "    #check if the video has been crawled\n",
    "    if referer in df['referer'].values:\n",
    "        clear_output(wait=True)\n",
    "        print('This video has been crawled before')\n",
    "        time.sleep(3)        \n",
    "        return df\n",
    "\n",
    "    time.sleep(3)\n",
    "    input('Press Enter to continue...')\n",
    "    \n",
    "    #set total - total number of comments\n",
    "    f = 0\n",
    "\n",
    "    headers = {\n",
    "        'authority': 'www.tiktok.com',\n",
    "        'accept': '*/*',\n",
    "        'accept-language': 'en,vi;q=0.9',    \n",
    "        'referer': referer,\n",
    "        'user-agent': 'Mozilla/5.0 (Windows NT 10.0; Win64; x64) AppleWebKit/537.36 (KHTML, like Gecko) Chrome/105.0.0.0 Safari/537.36 Edg/105.0.1343.27',\n",
    "    }\n",
    "\n",
    "    while True:\n",
    "        try:\n",
    "            response = requests.get(f'https://www.tiktok.com/api/comment/list/?aweme_id={id}&count={count}&cursor={cursor}', headers=headers)\n",
    "            json_data = response.json()\n",
    "            cursor = json_data['cursor']\n",
    "            for data in json_data['comments']:\n",
    "                #append data to dataframe\n",
    "                df = df.append({'cid':data['cid'], 'text':data['text'], 'time':epoch_to_date(data['create_time']), 'digg_count':data['digg_count'], 'reply_comment_total':data['reply_comment_total'], 'user_id':data['user']['uid'], 'user_nickname':data['user']['nickname'], 'user_unique_id':data['user']['unique_id'], 'referer':referer}, ignore_index=True)\n",
    "                #print progress\n",
    "                clear_output(wait=True)\n",
    "                print(f'Progress: {f}/{json_data[\"total\"]}')\n",
    "                f += 1\n",
    "        #print error\n",
    "        except Exception as e:\n",
    "            print(e)\n",
    "            print(f\"Error at {f}th request\")\n",
    "            break\n",
    "    return df"
   ]
  },
  {
   "cell_type": "code",
   "execution_count": 28,
   "metadata": {},
   "outputs": [
    {
     "name": "stdout",
     "output_type": "stream",
     "text": [
      "DataFrame not saved\n",
      "Done\n"
     ]
    }
   ],
   "source": [
    "if __name__ == '__main__':\n",
    "    stop = False\n",
    "    while not stop:\n",
    "        #input video url\n",
    "        while True:\n",
    "            referer = input(\"Enter video url: \")\n",
    "            if check_url(referer):\n",
    "                break\n",
    "            else:\n",
    "                print('Invalid url. Please try again')\n",
    "\n",
    "        #test url\n",
    "        #referer = 'https://www.tiktok.com/@toanchodien23/video/7121230509027478810'\n",
    "\n",
    "        #Dataframe description\n",
    "        df = get_comments(referer)\n",
    "        df.info()\n",
    "        df.head()\n",
    "        time.sleep(1)\n",
    "\n",
    "        #want to save\n",
    "        save = input('Do you want to save the DataFrame? (y/n): ')\n",
    "        clear_output(wait=True)\n",
    "        if save.lower() == 'y':\n",
    "            df.to_csv('Tiktok_comments.csv', index=False)            \n",
    "            print('DataFrame saved')\n",
    "        else:\n",
    "            print('DataFrame not saved')\n",
    "        stop = input('Do you want to continue? (y/n): ').lower() != 'y'\n",
    "    print('Done')\n",
    "    "
   ]
  },
  {
   "cell_type": "code",
   "execution_count": 13,
   "metadata": {},
   "outputs": [],
   "source": [
    "#save to csv\n",
    "df.to_csv('TikTok_comments.csv', index=False)"
   ]
  }
 ],
 "metadata": {
  "kernelspec": {
   "display_name": "Python 3.9.13 64-bit (microsoft store)",
   "language": "python",
   "name": "python3"
  },
  "language_info": {
   "codemirror_mode": {
    "name": "ipython",
    "version": 3
   },
   "file_extension": ".py",
   "mimetype": "text/x-python",
   "name": "python",
   "nbconvert_exporter": "python",
   "pygments_lexer": "ipython3",
   "version": "3.9.13"
  },
  "orig_nbformat": 4,
  "vscode": {
   "interpreter": {
    "hash": "231b793e72510f63263cf75731d759da8776d8c74c3ed2dbefa0f0827e58fa6e"
   }
  }
 },
 "nbformat": 4,
 "nbformat_minor": 2
}
