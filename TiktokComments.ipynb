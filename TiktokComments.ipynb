{
 "cells": [
  {
   "cell_type": "code",
   "execution_count": 45,
   "metadata": {},
   "outputs": [],
   "source": [
    "import requests\n",
    "import pandas as pd\n",
    "import time"
   ]
  },
  {
   "cell_type": "code",
   "execution_count": 52,
   "metadata": {},
   "outputs": [],
   "source": [
    "#input video url\n",
    "referer = input(\"Enter video url: \")\n",
    "\n",
    "#test url\n",
    "#referer = 'https://www.tiktok.com/@toanchodien23/video/7121230509027478810'\n",
    "\n",
    "#get video id from referer - example: 7121230509027478810\n",
    "id = referer.replace('?','/').split('/')[5]\n",
    "print(id)\n"
   ]
  },
  {
   "cell_type": "code",
   "execution_count": 47,
   "metadata": {},
   "outputs": [],
   "source": [
    "#Create DataFrame to store comments\n",
    "df = pd.DataFrame(columns=['cid', 'text', 'time', 'digg_count', 'reply_comment_total', 'user_id', 'user_nickname', 'user_unique_id', 'referer'])\n",
    "\n",
    "#Load dataframe from csv file if you have data set already\n",
    "#df = pd.read_csv('comments.csv')\n",
    "\n",
    "#---------------------------------\n",
    "#cid: comment id\n",
    "#text: comment\n",
    "#time: comment time\n",
    "#digg_count: number of likes\n",
    "#reply_comment_total: number of replies\n",
    "#user_id: user id\n",
    "#user_nickname: user nickname\n",
    "#user_unique_id: user unique id\n",
    "#referer: video url"
   ]
  },
  {
   "cell_type": "code",
   "execution_count": 48,
   "metadata": {},
   "outputs": [],
   "source": [
    "#Epoch & Unix Timestamp Conversion to GMT+0 time\n",
    "#Cuz Tiktok API return Epoch & Unix Timestamp, we need to convert it to GMT+0 time\n",
    "def epoch_to_date(epoch):\n",
    "    return time.strftime('%Y-%m-%d %H:%M:%S', time.gmtime(epoch))\n",
    "\n",
    "#If you want to convert it to local time, use this function\n",
    "# def epoch_to_date(epoch):\n",
    "#     return time.strftime('%Y-%m-%d %H:%M:%S', time.localtime(epoch))"
   ]
  },
  {
   "cell_type": "code",
   "execution_count": 49,
   "metadata": {},
   "outputs": [],
   "source": [
    "headers = {\n",
    "    'authority': 'www.tiktok.com',\n",
    "    'accept': '*/*',\n",
    "    'accept-language': 'en,vi;q=0.9',    \n",
    "    'referer': referer,\n",
    "    'user-agent': 'Mozilla/5.0 (Windows NT 10.0; Win64; x64) AppleWebKit/537.36 (KHTML, like Gecko) Chrome/105.0.0.0 Safari/537.36 Edg/105.0.1343.27',\n",
    "}\n",
    "\n",
    "#set cursor - address of the first row\n",
    "cursor = 0\n",
    "\n",
    "#set count - number of rows to read - maximum 50 rows per request\n",
    "count = 50"
   ]
  },
  {
   "cell_type": "code",
   "execution_count": null,
   "metadata": {},
   "outputs": [],
   "source": [
    "#Cuz TikTok API only return {count} comments per request, so we need to loop to get all comments\n",
    "f = 0\n",
    "while True:\n",
    "    f += 1\n",
    "    try:\n",
    "        response = requests.get(f'https://www.tiktok.com/api/comment/list/?aweme_id={id}&count={count}&cursor={cursor}', headers=headers)\n",
    "        json_data = response.json()\n",
    "        cursor = json_data['cursor']\n",
    "        for data in json_data['comments']:\n",
    "            #append data to dataframe\n",
    "            df = df.append({'cid':data['cid'], 'text':data['text'], 'time':epoch_to_date(data['create_time']), 'digg_count':data['digg_count'], 'reply_comment_total':data['reply_comment_total'], 'user_id':data['user']['uid'], 'user_nickname':data['user']['nickname'], 'user_unique_id':data['user']['unique_id'], 'referer':referer}, ignore_index=True)\n",
    "            f += 1\n",
    "    except:\n",
    "        print(f\"Error at {f}th request\")\n",
    "        break"
   ]
  },
  {
   "cell_type": "code",
   "execution_count": 54,
   "metadata": {},
   "outputs": [
    {
     "name": "stdout",
     "output_type": "stream",
     "text": [
      "<class 'pandas.core.frame.DataFrame'>\n",
      "RangeIndex: 71 entries, 0 to 70\n",
      "Data columns (total 9 columns):\n",
      " #   Column               Non-Null Count  Dtype \n",
      "---  ------               --------------  ----- \n",
      " 0   cid                  71 non-null     object\n",
      " 1   text                 71 non-null     object\n",
      " 2   time                 71 non-null     object\n",
      " 3   digg_count           71 non-null     object\n",
      " 4   reply_comment_total  71 non-null     object\n",
      " 5   user_id              71 non-null     object\n",
      " 6   user_nickname        71 non-null     object\n",
      " 7   user_unique_id       71 non-null     object\n",
      " 8   referer              71 non-null     object\n",
      "dtypes: object(9)\n",
      "memory usage: 5.1+ KB\n"
     ]
    },
    {
     "data": {
      "text/html": [
       "<div>\n",
       "<style scoped>\n",
       "    .dataframe tbody tr th:only-of-type {\n",
       "        vertical-align: middle;\n",
       "    }\n",
       "\n",
       "    .dataframe tbody tr th {\n",
       "        vertical-align: top;\n",
       "    }\n",
       "\n",
       "    .dataframe thead th {\n",
       "        text-align: right;\n",
       "    }\n",
       "</style>\n",
       "<table border=\"1\" class=\"dataframe\">\n",
       "  <thead>\n",
       "    <tr style=\"text-align: right;\">\n",
       "      <th></th>\n",
       "      <th>cid</th>\n",
       "      <th>text</th>\n",
       "      <th>time</th>\n",
       "      <th>digg_count</th>\n",
       "      <th>reply_comment_total</th>\n",
       "      <th>user_id</th>\n",
       "      <th>user_nickname</th>\n",
       "      <th>user_unique_id</th>\n",
       "      <th>referer</th>\n",
       "    </tr>\n",
       "  </thead>\n",
       "  <tbody>\n",
       "    <tr>\n",
       "      <th>0</th>\n",
       "      <td>7135706856186872602</td>\n",
       "      <td>khớp thì vẫn mòn mà a</td>\n",
       "      <td>2022-08-25 07:07:17</td>\n",
       "      <td>21</td>\n",
       "      <td>11</td>\n",
       "      <td>6854993900370150402</td>\n",
       "      <td>concaocao</td>\n",
       "      <td>pl4yz0n3</td>\n",
       "      <td>https://www.tiktok.com/@daoyeumoc/video/713566...</td>\n",
       "    </tr>\n",
       "    <tr>\n",
       "      <th>1</th>\n",
       "      <td>7135670325429158682</td>\n",
       "      <td>Có màu trắng ko ạ</td>\n",
       "      <td>2022-08-25 04:45:22</td>\n",
       "      <td>4</td>\n",
       "      <td>3</td>\n",
       "      <td>7099765229395919873</td>\n",
       "      <td>Không Tên</td>\n",
       "      <td>khongten_535</td>\n",
       "      <td>https://www.tiktok.com/@daoyeumoc/video/713566...</td>\n",
       "    </tr>\n",
       "    <tr>\n",
       "      <th>2</th>\n",
       "      <td>7135669054211293978</td>\n",
       "      <td>Gian nhà ngày xưa dùng kiểu khớp như này đúng ...</td>\n",
       "      <td>2022-08-25 04:40:29</td>\n",
       "      <td>2</td>\n",
       "      <td>1</td>\n",
       "      <td>6863452083518161921</td>\n",
       "      <td>NorthSide</td>\n",
       "      <td>babylearnmath12</td>\n",
       "      <td>https://www.tiktok.com/@daoyeumoc/video/713566...</td>\n",
       "    </tr>\n",
       "    <tr>\n",
       "      <th>3</th>\n",
       "      <td>7135668433228628737</td>\n",
       "      <td>lâu quá mới thấy lên vidoe lạiii</td>\n",
       "      <td>2022-08-25 04:39:37</td>\n",
       "      <td>2</td>\n",
       "      <td>0</td>\n",
       "      <td>6946053496815780865</td>\n",
       "      <td>bunnie._.bunnie</td>\n",
       "      <td>bunnie._.bunnie</td>\n",
       "      <td>https://www.tiktok.com/@daoyeumoc/video/713566...</td>\n",
       "    </tr>\n",
       "    <tr>\n",
       "      <th>4</th>\n",
       "      <td>7135686046478779163</td>\n",
       "      <td>cái ghế vòm hôm bữa đâu rồi anh?</td>\n",
       "      <td>2022-08-25 05:46:31</td>\n",
       "      <td>1</td>\n",
       "      <td>1</td>\n",
       "      <td>7073487819280909313</td>\n",
       "      <td>Chuyên</td>\n",
       "      <td>c.hyue</td>\n",
       "      <td>https://www.tiktok.com/@daoyeumoc/video/713566...</td>\n",
       "    </tr>\n",
       "  </tbody>\n",
       "</table>\n",
       "</div>"
      ],
      "text/plain": [
       "                   cid                                               text  \\\n",
       "0  7135706856186872602                              khớp thì vẫn mòn mà a   \n",
       "1  7135670325429158682                                  Có màu trắng ko ạ   \n",
       "2  7135669054211293978  Gian nhà ngày xưa dùng kiểu khớp như này đúng ...   \n",
       "3  7135668433228628737                   lâu quá mới thấy lên vidoe lạiii   \n",
       "4  7135686046478779163                   cái ghế vòm hôm bữa đâu rồi anh?   \n",
       "\n",
       "                  time digg_count reply_comment_total              user_id  \\\n",
       "0  2022-08-25 07:07:17         21                  11  6854993900370150402   \n",
       "1  2022-08-25 04:45:22          4                   3  7099765229395919873   \n",
       "2  2022-08-25 04:40:29          2                   1  6863452083518161921   \n",
       "3  2022-08-25 04:39:37          2                   0  6946053496815780865   \n",
       "4  2022-08-25 05:46:31          1                   1  7073487819280909313   \n",
       "\n",
       "     user_nickname   user_unique_id  \\\n",
       "0        concaocao         pl4yz0n3   \n",
       "1        Không Tên     khongten_535   \n",
       "2        NorthSide  babylearnmath12   \n",
       "3  bunnie._.bunnie  bunnie._.bunnie   \n",
       "4           Chuyên           c.hyue   \n",
       "\n",
       "                                             referer  \n",
       "0  https://www.tiktok.com/@daoyeumoc/video/713566...  \n",
       "1  https://www.tiktok.com/@daoyeumoc/video/713566...  \n",
       "2  https://www.tiktok.com/@daoyeumoc/video/713566...  \n",
       "3  https://www.tiktok.com/@daoyeumoc/video/713566...  \n",
       "4  https://www.tiktok.com/@daoyeumoc/video/713566...  "
      ]
     },
     "execution_count": 54,
     "metadata": {},
     "output_type": "execute_result"
    }
   ],
   "source": [
    "#Dataframe description\n",
    "df.info()\n",
    "df.head()"
   ]
  },
  {
   "cell_type": "code",
   "execution_count": 55,
   "metadata": {},
   "outputs": [],
   "source": [
    "#save to csv\n",
    "df.to_csv('TikTok_comments_1.csv', index=False)"
   ]
  }
 ],
 "metadata": {
  "kernelspec": {
   "display_name": "Python 3.9.13 64-bit (microsoft store)",
   "language": "python",
   "name": "python3"
  },
  "language_info": {
   "codemirror_mode": {
    "name": "ipython",
    "version": 3
   },
   "file_extension": ".py",
   "mimetype": "text/x-python",
   "name": "python",
   "nbconvert_exporter": "python",
   "pygments_lexer": "ipython3",
   "version": "3.9.13"
  },
  "orig_nbformat": 4,
  "vscode": {
   "interpreter": {
    "hash": "231b793e72510f63263cf75731d759da8776d8c74c3ed2dbefa0f0827e58fa6e"
   }
  }
 },
 "nbformat": 4,
 "nbformat_minor": 2
}
